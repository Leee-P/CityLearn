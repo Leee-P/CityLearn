{
 "cells": [
  {
   "cell_type": "code",
   "execution_count": 11,
   "metadata": {},
   "outputs": [],
   "source": [
    "import sys\n",
    "import matplotlib.colors as colors\n",
    "import matplotlib.pyplot as plt\n",
    "sys.path.insert(0,'..')\n",
    "from nrel_xstock.database import XStockDatabase"
   ]
  },
  {
   "cell_type": "code",
   "execution_count": 33,
   "metadata": {},
   "outputs": [],
   "source": [
    "database_filepath = '/Users/kingsleyenweye/Desktop/INTELLIGENT_ENVIRONMENT_LAB/citylearn/data/nrel/database.db'\n",
    "database = XStockDatabase(filepath=database_filepath,apply_changes=True)"
   ]
  },
  {
   "cell_type": "code",
   "execution_count": 67,
   "metadata": {},
   "outputs": [
    {
     "data": {
      "text/html": [
       "<div>\n",
       "<style scoped>\n",
       "    .dataframe tbody tr th:only-of-type {\n",
       "        vertical-align: middle;\n",
       "    }\n",
       "\n",
       "    .dataframe tbody tr th {\n",
       "        vertical-align: top;\n",
       "    }\n",
       "\n",
       "    .dataframe thead th {\n",
       "        text-align: right;\n",
       "    }\n",
       "</style>\n",
       "<table border=\"1\" class=\"dataframe\">\n",
       "  <thead>\n",
       "    <tr style=\"text-align: right;\">\n",
       "      <th></th>\n",
       "      <th>dataset_type</th>\n",
       "      <th>weather_data</th>\n",
       "      <th>year_of_publication</th>\n",
       "      <th>release</th>\n",
       "      <th>bldg_id</th>\n",
       "      <th>upgrade</th>\n",
       "    </tr>\n",
       "  </thead>\n",
       "  <tbody>\n",
       "    <tr>\n",
       "      <th>0</th>\n",
       "      <td>resstock</td>\n",
       "      <td>tmy3</td>\n",
       "      <td>2021</td>\n",
       "      <td>1</td>\n",
       "      <td>446460</td>\n",
       "      <td>0</td>\n",
       "    </tr>\n",
       "    <tr>\n",
       "      <th>1</th>\n",
       "      <td>resstock</td>\n",
       "      <td>tmy3</td>\n",
       "      <td>2021</td>\n",
       "      <td>1</td>\n",
       "      <td>378790</td>\n",
       "      <td>0</td>\n",
       "    </tr>\n",
       "    <tr>\n",
       "      <th>2</th>\n",
       "      <td>resstock</td>\n",
       "      <td>tmy3</td>\n",
       "      <td>2021</td>\n",
       "      <td>1</td>\n",
       "      <td>404350</td>\n",
       "      <td>0</td>\n",
       "    </tr>\n",
       "    <tr>\n",
       "      <th>3</th>\n",
       "      <td>resstock</td>\n",
       "      <td>tmy3</td>\n",
       "      <td>2021</td>\n",
       "      <td>1</td>\n",
       "      <td>191067</td>\n",
       "      <td>0</td>\n",
       "    </tr>\n",
       "    <tr>\n",
       "      <th>4</th>\n",
       "      <td>resstock</td>\n",
       "      <td>tmy3</td>\n",
       "      <td>2021</td>\n",
       "      <td>1</td>\n",
       "      <td>340590</td>\n",
       "      <td>0</td>\n",
       "    </tr>\n",
       "  </tbody>\n",
       "</table>\n",
       "</div>"
      ],
      "text/plain": [
       "  dataset_type weather_data  year_of_publication  release  bldg_id  upgrade\n",
       "0     resstock         tmy3                 2021        1   446460        0\n",
       "1     resstock         tmy3                 2021        1   378790        0\n",
       "2     resstock         tmy3                 2021        1   404350        0\n",
       "3     resstock         tmy3                 2021        1   191067        0\n",
       "4     resstock         tmy3                 2021        1   340590        0"
      ]
     },
     "metadata": {},
     "output_type": "display_data"
    }
   ],
   "source": [
    "# Austin buildings\n",
    "query = \"\"\"\n",
    "SELECT \n",
    "    d.dataset_type,\n",
    "    d.weather_data,\n",
    "    d.year_of_publication,\n",
    "    d.release,\n",
    "    m.bldg_id,\n",
    "    m.upgrade\n",
    "FROM metadata m\n",
    "INNER JOIN dataset d ON \n",
    "    d.id = m.dataset_id\n",
    "INNER JOIN weather w ON \n",
    "    w.dataset_id = d.id\n",
    "    AND w.weather_file_tmy3 = m.in_weather_file_tmy3\n",
    "WHERE\n",
    "    m.in_geometry_building_type_recs = 'Single-Family Detached'\n",
    "    AND m.in_vacancy_status = 'Occupied'\n",
    "    AND m.in_resstock_county_id = 'TX, Travis County'\n",
    "    AND w.epw_url IS NOT NULL\n",
    "ORDER BY\n",
    "    m.in_pv_system_size ASC,\n",
    "    m.bldg_id ASC\n",
    "LIMIT 100\n",
    "\"\"\"\n",
    "data = database.query_table(query)\n",
    "data.to_csv('/Users/kingsleyenweye/Desktop/INTELLIGENT_ENVIRONMENT_LAB/citylearn/CityLearn/nrel_xstock/data/neighborhoods/austin_neighborhood.csv',index=False)\n",
    "display(data.head())"
   ]
  },
  {
   "cell_type": "code",
   "execution_count": 62,
   "metadata": {},
   "outputs": [],
   "source": [
    "# CityLearn environment input\n",
    "columns = [\n",
    "    'Indoor Temperature (C)',\n",
    "    'Average Unmet Cooling Setpoint Difference (C)',\n",
    "    'Average Unmet Heating Setpoint Difference (C)',\n",
    "    'Indoor Relative Humidity (%)',\n",
    "    'Equipment Electric Power (kWh)',\n",
    "    'DHW Heating (kWh)',\n",
    "    'Cooling Load (kWh)',\n",
    "    'Heating Load (kWh)',\n",
    "]\n",
    "buildings = database.query_table(\"SELECT DISTINCT metadata_id FROM citylearn_energyplus_simulation_result\")['metadata_id'].tolist()\n",
    "cell_height = 0.175\n",
    "fig_width = cell_height*len(buildings)*1.5\n",
    "cb_fraction = 0.03\n",
    "cb_pad = 0.02\n",
    "figsize = (fig_width,cell_height*len(buildings)*len(columns))\n",
    "fig, axs = plt.subplots(len(columns),1,figsize=figsize)\n",
    "divnorm = colors.TwoSlopeNorm(vcenter=0)\n",
    "\n",
    "for ax, column in zip(fig.axes,columns):\n",
    "    query = f\"\"\"\n",
    "    SELECT\n",
    "        ROW_NUMBER() OVER(PARTITION BY m.bldg_id ORDER BY r.Month ASC, r.\"Day\" ASC, r.Hour ASC) AS timestep,\n",
    "        m.bldg_id,\n",
    "        r.\"{column}\"\n",
    "    FROM citylearn_energyplus_simulation_result r\n",
    "    LEFT JOIN metadata m ON m.id = r.metadata_id\n",
    "    ORDER BY\n",
    "        CAST(m.bldg_id AS INTEGER)\n",
    "    \"\"\"\n",
    "    data = database.query_table(query)\n",
    "    plot_data = data.pivot(index='bldg_id',columns='timestep',values=column)\n",
    "    plot_data.index = plot_data.index.astype(str)\n",
    "    x = plot_data.columns\n",
    "    y = plot_data.index\n",
    "    z = plot_data.values\n",
    "    pcm = ax.pcolormesh(x,y,z,shading='nearest',cmap='Blues',norm=divnorm)\n",
    "    cb = fig.colorbar(pcm,ax=ax,fraction=cb_fraction,pad=cb_pad,label=column)\n",
    "    ax.set_xlabel('Timestep')\n",
    "    ax.set_ylabel('Building ID')\n",
    "\n",
    "plt.tight_layout()\n",
    "plt.savefig('../data/neighborhoods/austin/austin_neighborhood_heatmap.png',bbox_inches='tight',facecolor='white',)\n",
    "plt.close()"
   ]
  },
  {
   "cell_type": "code",
   "execution_count": 76,
   "metadata": {},
   "outputs": [],
   "source": [
    "metadata = database.download_metadata('resstock','tmy3','2021','1')"
   ]
  },
  {
   "cell_type": "code",
   "execution_count": 78,
   "metadata": {},
   "outputs": [
    {
     "data": {
      "text/plain": [
       "(23, 248)"
      ]
     },
     "execution_count": 78,
     "metadata": {},
     "output_type": "execute_result"
    }
   ],
   "source": [
    "import pandas as pd\n",
    "# metadata['in.pv_system_size'] = pd.to_numeric(metadata['in.pv_system_size'],errors='coerce')\n",
    "metadata[\n",
    "    (metadata['in.resstock_county_id']=='TX, Travis County')\n",
    "    &(metadata['in.geometry_building_type_recs']=='Single-Family Detached')\n",
    "    &(metadata['in.vacancy_status']=='Occupied')\n",
    "    &(metadata['in.pv_system_size']!='None')\n",
    "].shape"
   ]
  }
 ],
 "metadata": {
  "interpreter": {
   "hash": "a6c6d60bcead2acb986d87813fffd23426d43ddf0767d941b76ca39e595b656d"
  },
  "kernelspec": {
   "display_name": "Python 3.7.3 64-bit ('env': venv)",
   "name": "python3"
  },
  "language_info": {
   "codemirror_mode": {
    "name": "ipython",
    "version": 3
   },
   "file_extension": ".py",
   "mimetype": "text/x-python",
   "name": "python",
   "nbconvert_exporter": "python",
   "pygments_lexer": "ipython3",
   "version": "3.7.3"
  },
  "orig_nbformat": 4
 },
 "nbformat": 4,
 "nbformat_minor": 2
}
