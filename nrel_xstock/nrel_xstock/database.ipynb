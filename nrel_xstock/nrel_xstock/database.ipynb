{
 "cells": [
  {
   "cell_type": "code",
   "execution_count": null,
   "metadata": {},
   "outputs": [],
   "source": [
    "from eppy.modeleditor import IDF\n",
    "from openstudio import energyplus, osversion, path\n",
    "from database import ResstockDatabase"
   ]
  },
  {
   "cell_type": "code",
   "execution_count": null,
   "metadata": {},
   "outputs": [],
   "source": [
    "database_filepath = 'database.sql'\n",
    "resstock_database = ResstockDatabase(filepath=database_filepath)"
   ]
  },
  {
   "cell_type": "markdown",
   "metadata": {},
   "source": [
    "# Build SQLite DB\n",
    "***"
   ]
  },
  {
   "cell_type": "code",
   "execution_count": null,
   "metadata": {},
   "outputs": [],
   "source": [
    "filters = {\n",
    "    'in.geometry_building_type_recs':['Single-Family Detached'],\n",
    "    'in.vacancy_status':['Occupied'],\n",
    "    'in.resstock_county_id':['TX, Travis County']\n",
    "}\n",
    "kwargs = {\n",
    "    'dataset_type':'resstock',\n",
    "    'weather_data':'tmy3',\n",
    "    'year_of_publication':2021,\n",
    "    'release':1,\n",
    "    'filters':filters\n",
    "}\n",
    "resstock_database.build(overwrite=True)\n",
    "resstock_database.insert_dataset(**kwargs)"
   ]
  },
  {
   "cell_type": "markdown",
   "metadata": {},
   "source": [
    "# E+ Simulation\n",
    "***"
   ]
  },
  {
   "cell_type": "code",
   "execution_count": null,
   "metadata": {},
   "outputs": [],
   "source": [
    "sim_data = resstock_database.query_table(\"\"\"\n",
    "SELECT\n",
    "    bldg_id,\n",
    "    osm,\n",
    "    epw,\n",
    "    ddy\n",
    "FROM building_energy_performance_simulation_input\n",
    "WHERE bldg_id = '40'\n",
    "\"\"\")\n",
    "\n",
    "# with open('debug/model.osm','w') as f:\n",
    "#         f.write(sim_data['osm'].iloc[0])\n",
    "\n",
    "# osm_string = sim_data['osm'].iloc[0]\n",
    "# version_translator = osversion.VersionTranslator()\n",
    "# osm_model = version_translator.loadModel('model_raw.osm').get()\n",
    "# forward_translator = energyplus.ForwardTranslator()\n",
    "# idf_model = forward_translator.translateModel(osm_model)\n",
    "# _ = idf_model.save(path('model_raw.idf'),True)"
   ]
  },
  {
   "cell_type": "code",
   "execution_count": null,
   "metadata": {},
   "outputs": [],
   "source": [
    "idd_filepath = '/Applications/EnergyPlus-9-6-0/PreProcess/IDFVersionUpdater/V9-6-0-Energy+.idd'\n",
    "idf_filepath = 'model_raw.idf'\n",
    "epw_filepath = '/Users/kingsleyenweye/Desktop/INTELLIGENT_ENVIRONMENT_LAB/tmy_management/USA_TX_Austin-Camp.Mabry.722544_TMY3.epw'\n",
    "ddy_filepath = '/Users/kingsleyenweye/Desktop/INTELLIGENT_ENVIRONMENT_LAB/tmy_management/USA_TX_Austin-Camp.Mabry.722544_TMY3.ddy'\n",
    "simulation_id = idf_filepath.split('.')[0]\n",
    "IDF.setiddname(idd_filepath)\n",
    "idf = IDF(idf_filepath,epw_filepath)\n",
    "\n",
    "# preprocessing here\n",
    "# ...\n",
    "\n",
    "# # run energy simulation\n",
    "# idf_version = idf.idfobjects['version'][0].Version_Identifier.split('.')\n",
    "# idf_version.extend([0] * (3 - len(idf_version)))\n",
    "# idf_version_str = '-'.join([str(item) for item in idf_version])\n",
    "# options = {\n",
    "#     'ep_version':idf_version_str,\n",
    "#     'output_prefix':'eplusout',\n",
    "#     'output_suffix':'C',\n",
    "#     'output_directory':'model_raw',\n",
    "#     'readvars':False,\n",
    "#     'expandobjects':False,\n",
    "#     'verbose':'q',\n",
    "# }\n",
    "# idf.run(**options)"
   ]
  }
 ],
 "metadata": {
  "interpreter": {
   "hash": "a6c6d60bcead2acb986d87813fffd23426d43ddf0767d941b76ca39e595b656d"
  },
  "kernelspec": {
   "display_name": "Python 3.7.3 64-bit ('env': venv)",
   "name": "python3"
  },
  "language_info": {
   "codemirror_mode": {
    "name": "ipython",
    "version": 3
   },
   "file_extension": ".py",
   "mimetype": "text/x-python",
   "name": "python",
   "nbconvert_exporter": "python",
   "pygments_lexer": "ipython3",
   "version": "3.7.3"
  },
  "orig_nbformat": 4
 },
 "nbformat": 4,
 "nbformat_minor": 2
}
