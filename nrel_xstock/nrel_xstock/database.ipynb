{
 "cells": [
  {
   "cell_type": "code",
   "execution_count": 1,
   "metadata": {},
   "outputs": [],
   "source": [
    "from database import ResstockDatabase"
   ]
  },
  {
   "cell_type": "markdown",
   "metadata": {},
   "source": [
    "# Build SQLite DB\n",
    "***"
   ]
  },
  {
   "cell_type": "code",
   "execution_count": 2,
   "metadata": {},
   "outputs": [],
   "source": [
    "database_filepath = 'database.sql'\n",
    "resstock_database = ResstockDatabase(filepath=database_filepath)\n",
    "filters = {\n",
    "    'in.geometry_building_type_recs':['Single-Family Detached'],\n",
    "    'in.vacancy_status':['Occupied'],\n",
    "    'in.resstock_county_id':['TX, Travis County']\n",
    "}\n",
    "kwargs = {\n",
    "    'dataset_type':'resstock',\n",
    "    'weather_data':'tmy3',\n",
    "    'year_of_publication':2021,\n",
    "    'release':1,\n",
    "    'filters':filters\n",
    "}\n",
    "resstock_database.build(overwrite=True)\n",
    "resstock_database.insert_dataset(**kwargs)"
   ]
  }
 ],
 "metadata": {
  "interpreter": {
   "hash": "a6c6d60bcead2acb986d87813fffd23426d43ddf0767d941b76ca39e595b656d"
  },
  "kernelspec": {
   "display_name": "Python 3.7.3 64-bit ('env': venv)",
   "name": "python3"
  },
  "language_info": {
   "codemirror_mode": {
    "name": "ipython",
    "version": 3
   },
   "file_extension": ".py",
   "mimetype": "text/x-python",
   "name": "python",
   "nbconvert_exporter": "python",
   "pygments_lexer": "ipython3",
   "version": "3.7.3"
  },
  "orig_nbformat": 4
 },
 "nbformat": 4,
 "nbformat_minor": 2
}
